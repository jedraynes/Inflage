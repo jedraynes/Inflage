{
 "cells": [
  {
   "cell_type": "code",
   "execution_count": 1,
   "id": "tough-future",
   "metadata": {},
   "outputs": [],
   "source": [
    "# load packages\n",
    "import pandas as pd\n",
    "import matplotlib.pyplot as plt\n",
    "import cpi\n",
    "%matplotlib inline"
   ]
  },
  {
   "cell_type": "code",
   "execution_count": 2,
   "id": "outstanding-scott",
   "metadata": {},
   "outputs": [],
   "source": [
    "# update cpi\n",
    "# cpi.update()"
   ]
  },
  {
   "cell_type": "code",
   "execution_count": 3,
   "id": "blessed-export",
   "metadata": {},
   "outputs": [
    {
     "data": {
      "text/html": [
       "<div>\n",
       "<style scoped>\n",
       "    .dataframe tbody tr th:only-of-type {\n",
       "        vertical-align: middle;\n",
       "    }\n",
       "\n",
       "    .dataframe tbody tr th {\n",
       "        vertical-align: top;\n",
       "    }\n",
       "\n",
       "    .dataframe thead th {\n",
       "        text-align: right;\n",
       "    }\n",
       "</style>\n",
       "<table border=\"1\" class=\"dataframe\">\n",
       "  <thead>\n",
       "    <tr style=\"text-align: right;\">\n",
       "      <th></th>\n",
       "      <th>location</th>\n",
       "      <th>1968</th>\n",
       "      <th>1970</th>\n",
       "      <th>1972</th>\n",
       "      <th>1976</th>\n",
       "      <th>1979</th>\n",
       "      <th>1980</th>\n",
       "      <th>1981</th>\n",
       "      <th>1988</th>\n",
       "      <th>1991</th>\n",
       "      <th>...</th>\n",
       "      <th>2010</th>\n",
       "      <th>2011</th>\n",
       "      <th>2012</th>\n",
       "      <th>2013</th>\n",
       "      <th>2014</th>\n",
       "      <th>2015</th>\n",
       "      <th>2016</th>\n",
       "      <th>2017</th>\n",
       "      <th>2018</th>\n",
       "      <th>2019</th>\n",
       "    </tr>\n",
       "  </thead>\n",
       "  <tbody>\n",
       "    <tr>\n",
       "      <th>0</th>\n",
       "      <td>Federal (FLSA)</td>\n",
       "      <td>1.15</td>\n",
       "      <td>1.30</td>\n",
       "      <td>1.60</td>\n",
       "      <td>2.2</td>\n",
       "      <td>2.9</td>\n",
       "      <td>3.10</td>\n",
       "      <td>3.35</td>\n",
       "      <td>3.35</td>\n",
       "      <td>3.80</td>\n",
       "      <td>...</td>\n",
       "      <td>7.25</td>\n",
       "      <td>7.25</td>\n",
       "      <td>7.25</td>\n",
       "      <td>7.25</td>\n",
       "      <td>7.25</td>\n",
       "      <td>7.25</td>\n",
       "      <td>7.25</td>\n",
       "      <td>7.25</td>\n",
       "      <td>7.25</td>\n",
       "      <td>7.25</td>\n",
       "    </tr>\n",
       "    <tr>\n",
       "      <th>1</th>\n",
       "      <td>Alabama</td>\n",
       "      <td>1.15</td>\n",
       "      <td>1.30</td>\n",
       "      <td>1.60</td>\n",
       "      <td>2.2</td>\n",
       "      <td>2.9</td>\n",
       "      <td>3.10</td>\n",
       "      <td>3.35</td>\n",
       "      <td>3.35</td>\n",
       "      <td>3.80</td>\n",
       "      <td>...</td>\n",
       "      <td>7.25</td>\n",
       "      <td>7.25</td>\n",
       "      <td>7.25</td>\n",
       "      <td>7.25</td>\n",
       "      <td>7.25</td>\n",
       "      <td>7.25</td>\n",
       "      <td>7.25</td>\n",
       "      <td>7.25</td>\n",
       "      <td>7.25</td>\n",
       "      <td>7.25</td>\n",
       "    </tr>\n",
       "    <tr>\n",
       "      <th>2</th>\n",
       "      <td>Alaska</td>\n",
       "      <td>2.10</td>\n",
       "      <td>2.10</td>\n",
       "      <td>2.10</td>\n",
       "      <td>2.8</td>\n",
       "      <td>3.4</td>\n",
       "      <td>3.60</td>\n",
       "      <td>3.85</td>\n",
       "      <td>3.85</td>\n",
       "      <td>4.30</td>\n",
       "      <td>...</td>\n",
       "      <td>7.75</td>\n",
       "      <td>7.75</td>\n",
       "      <td>7.75</td>\n",
       "      <td>7.75</td>\n",
       "      <td>7.75</td>\n",
       "      <td>8.75</td>\n",
       "      <td>9.75</td>\n",
       "      <td>9.80</td>\n",
       "      <td>9.84</td>\n",
       "      <td>10.19</td>\n",
       "    </tr>\n",
       "    <tr>\n",
       "      <th>3</th>\n",
       "      <td>Arizona</td>\n",
       "      <td>18.72</td>\n",
       "      <td>18.72</td>\n",
       "      <td>18.72</td>\n",
       "      <td>2.2</td>\n",
       "      <td>2.9</td>\n",
       "      <td>3.10</td>\n",
       "      <td>3.35</td>\n",
       "      <td>3.35</td>\n",
       "      <td>3.80</td>\n",
       "      <td>...</td>\n",
       "      <td>7.25</td>\n",
       "      <td>7.35</td>\n",
       "      <td>7.65</td>\n",
       "      <td>7.80</td>\n",
       "      <td>7.90</td>\n",
       "      <td>8.05</td>\n",
       "      <td>8.05</td>\n",
       "      <td>10.00</td>\n",
       "      <td>10.50</td>\n",
       "      <td>12.00</td>\n",
       "    </tr>\n",
       "    <tr>\n",
       "      <th>4</th>\n",
       "      <td>Arkansas</td>\n",
       "      <td>1.25</td>\n",
       "      <td>1.10</td>\n",
       "      <td>1.20</td>\n",
       "      <td>1.9</td>\n",
       "      <td>2.3</td>\n",
       "      <td>2.55</td>\n",
       "      <td>2.70</td>\n",
       "      <td>3.25</td>\n",
       "      <td>3.35</td>\n",
       "      <td>...</td>\n",
       "      <td>6.25</td>\n",
       "      <td>6.25</td>\n",
       "      <td>6.25</td>\n",
       "      <td>6.25</td>\n",
       "      <td>6.25</td>\n",
       "      <td>7.50</td>\n",
       "      <td>8.00</td>\n",
       "      <td>8.50</td>\n",
       "      <td>8.50</td>\n",
       "      <td>9.25</td>\n",
       "    </tr>\n",
       "  </tbody>\n",
       "</table>\n",
       "<p>5 rows × 35 columns</p>\n",
       "</div>"
      ],
      "text/plain": [
       "         location   1968   1970   1972  1976  1979  1980  1981  1988  1991  \\\n",
       "0  Federal (FLSA)   1.15   1.30   1.60   2.2   2.9  3.10  3.35  3.35  3.80   \n",
       "1         Alabama   1.15   1.30   1.60   2.2   2.9  3.10  3.35  3.35  3.80   \n",
       "2          Alaska   2.10   2.10   2.10   2.8   3.4  3.60  3.85  3.85  4.30   \n",
       "3         Arizona  18.72  18.72  18.72   2.2   2.9  3.10  3.35  3.35  3.80   \n",
       "4        Arkansas   1.25   1.10   1.20   1.9   2.3  2.55  2.70  3.25  3.35   \n",
       "\n",
       "   ...  2010  2011  2012  2013  2014  2015  2016   2017   2018   2019  \n",
       "0  ...  7.25  7.25  7.25  7.25  7.25  7.25  7.25   7.25   7.25   7.25  \n",
       "1  ...  7.25  7.25  7.25  7.25  7.25  7.25  7.25   7.25   7.25   7.25  \n",
       "2  ...  7.75  7.75  7.75  7.75  7.75  8.75  9.75   9.80   9.84  10.19  \n",
       "3  ...  7.25  7.35  7.65  7.80  7.90  8.05  8.05  10.00  10.50  12.00  \n",
       "4  ...  6.25  6.25  6.25  6.25  6.25  7.50  8.00   8.50   8.50   9.25  \n",
       "\n",
       "[5 rows x 35 columns]"
      ]
     },
     "execution_count": 3,
     "metadata": {},
     "output_type": "execute_result"
    }
   ],
   "source": [
    "# load and inspect data\n",
    "df = pd.read_csv('C:\\\\Users\\\\Jed\\\\iCloudDrive\\\\Documents\\\\Learn\\Python\\\\Inflage\\\\dol_min_wage_scraped.csv')\n",
    "df.head()"
   ]
  },
  {
   "cell_type": "code",
   "execution_count": 4,
   "id": "reported-format",
   "metadata": {},
   "outputs": [],
   "source": [
    "# only federal minimum wage\n",
    "df = df[df['location'] == \"Federal (FLSA)\"]\n",
    "\n",
    "# transform df\n",
    "columns = list(df.columns)\n",
    "columns.remove('location')\n",
    "df = pd.melt(df, id_vars = 'location', value_vars = columns)"
   ]
  },
  {
   "cell_type": "code",
   "execution_count": 5,
   "id": "enclosed-tourism",
   "metadata": {},
   "outputs": [],
   "source": [
    "# rename columns\n",
    "df.columns = ['location', 'year', 'min_wage']"
   ]
  },
  {
   "cell_type": "code",
   "execution_count": 6,
   "id": "fiscal-ozone",
   "metadata": {},
   "outputs": [],
   "source": [
    "# convert year to datetime object to use the CPI library\n",
    "df['year_date'] = pd.to_datetime(df['year'], format = '%Y')"
   ]
  },
  {
   "cell_type": "code",
   "execution_count": 7,
   "id": "micro-damages",
   "metadata": {},
   "outputs": [],
   "source": [
    "# convert using CPI\n",
    "df['adjusted_min_wage'] = df.apply(lambda x: cpi.inflate(x.min_wage, x.year_date), axis = 1)"
   ]
  },
  {
   "cell_type": "code",
   "execution_count": 8,
   "id": "personal-glasgow",
   "metadata": {},
   "outputs": [
    {
     "name": "stderr",
     "output_type": "stream",
     "text": [
      "<ipython-input-8-804f93fb7826>:24: MatplotlibDeprecationWarning: savefig() got unexpected keyword argument \"frameon\" which is no longer supported as of 3.3 and will become an error two minor releases later\n",
      "  plot = plt.savefig('C:\\\\Users\\\\Jed\\\\iCloudDrive\\\\Documents\\\\Learn\\Python\\\\Inflage\\\\inflage.png',\n"
     ]
    },
    {
     "data": {
      "text/plain": [
       "<Figure size 432x288 with 0 Axes>"
      ]
     },
     "metadata": {},
     "output_type": "display_data"
    },
    {
     "data": {
      "image/png": "[encoded data removed]",
      "text/plain": [
       "<Figure size 720x720 with 1 Axes>"
      ]
     },
     "metadata": {
      "needs_background": "light"
     },
     "output_type": "display_data"
    }
   ],
   "source": [
    "# clear plot and define figure size\n",
    "plot = plt.clf()\n",
    "plot = plt.figure(figsize = (10, 10))\n",
    "\n",
    "# adjusted first since it's behind\n",
    "plot = plt.plot(df['year'], df['adjusted_min_wage'], label = 'Minimum Wage (Actual USD)', color = 'black')\n",
    "plot = plt.fill_between(df['year'], df['adjusted_min_wage'], facecolor = 'orange')\n",
    "\n",
    "# actual next\n",
    "plot = plt.plot(df['year'], df['min_wage'], label = 'Minimum Wage (Actual USD)', color = 'black')\n",
    "plot = plt.fill_between(df['year'], df['min_wage'], facecolor = 'steelblue')\n",
    "\n",
    "# rotate x axis\n",
    "plot = plt.xticks(rotation = 'vertical')\n",
    "\n",
    "# axis labels, new lines in xlabel is for makeshift caption\n",
    "plot = plt.xlabel('Year \\n \\n Note: Actual in Blue, Inflation Adjusted in Orange')\n",
    "plot = plt.ylabel('Minimum Wage ($)')\n",
    "\n",
    "# title\n",
    "plot = plt.title('US Federal Minimum Wage: Actual vs. FY21 Inflation-Adjusted')\n",
    "\n",
    "# save figure\n",
    "plot = plt.savefig('C:\\\\Users\\\\Jed\\\\iCloudDrive\\\\Documents\\\\Learn\\Python\\\\Inflage\\\\inflage.png', \n",
    "        orientation='portrait',\n",
    "        format = 'png',\n",
    "        transparent = True,\n",
    "        frameon = None,\n",
    "        metadata = None)"
   ]
  }
 ],
 "metadata": {
  "kernelspec": {
   "display_name": "Python 3",
   "language": "python",
   "name": "python3"
  },
  "language_info": {
   "codemirror_mode": {
    "name": "ipython",
    "version": 3
   },
   "file_extension": ".py",
   "mimetype": "text/x-python",
   "name": "python",
   "nbconvert_exporter": "python",
   "pygments_lexer": "ipython3",
   "version": "3.8.3"
  }
 },
 "nbformat": 4,
 "nbformat_minor": 5
}
